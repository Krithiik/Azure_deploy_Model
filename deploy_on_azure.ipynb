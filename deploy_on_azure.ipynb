{
  "cells": [
    {
      "cell_type": "code",
      "execution_count": null,
      "metadata": {
        "id": "lUQqOqVoIM1r"
      },
      "outputs": [],
      "source": [
        "pip install --upgrade azureml-sdk"
      ]
    },
    {
      "cell_type": "code",
      "execution_count": null,
      "metadata": {
        "colab": {
          "base_uri": "https://localhost:8080/"
        },
        "id": "zMil50ynGwkA",
        "outputId": "3c9c4778-ee28-437b-d9a8-c1bb6777eb4f"
      },
      "outputs": [
        {
          "name": "stderr",
          "output_type": "stream",
          "text": [
            "/usr/local/lib/python3.7/dist-packages/sklearn/utils/deprecation.py:87: FutureWarning: Function load_boston is deprecated; `load_boston` is deprecated in 1.0 and will be removed in 1.2.\n",
            "\n",
            "    The Boston housing prices dataset has an ethical problem. You can refer to\n",
            "    the documentation of this function for further details.\n",
            "\n",
            "    The scikit-learn maintainers therefore strongly discourage the use of this\n",
            "    dataset unless the purpose of the code is to study and educate about\n",
            "    ethical issues in data science and machine learning.\n",
            "\n",
            "    In this special case, you can fetch the dataset from the original\n",
            "    source::\n",
            "\n",
            "        import pandas as pd\n",
            "        import numpy as np\n",
            "\n",
            "\n",
            "        data_url = \"http://lib.stat.cmu.edu/datasets/boston\"\n",
            "        raw_df = pd.read_csv(data_url, sep=\"\\s+\", skiprows=22, header=None)\n",
            "        data = np.hstack([raw_df.values[::2, :], raw_df.values[1::2, :2]])\n",
            "        target = raw_df.values[1::2, 2]\n",
            "\n",
            "    Alternative datasets include the California housing dataset (i.e.\n",
            "    :func:`~sklearn.datasets.fetch_california_housing`) and the Ames housing\n",
            "    dataset. You can load the datasets as follows::\n",
            "\n",
            "        from sklearn.datasets import fetch_california_housing\n",
            "        housing = fetch_california_housing()\n",
            "\n",
            "    for the California housing dataset and::\n",
            "\n",
            "        from sklearn.datasets import fetch_openml\n",
            "        housing = fetch_openml(name=\"house_prices\", as_frame=True)\n",
            "\n",
            "    for the Ames housing dataset.\n",
            "    \n",
            "  warnings.warn(msg, category=FutureWarning)\n"
          ]
        },
        {
          "data": {
            "text/plain": [
              "LinearRegression()"
            ]
          },
          "execution_count": 33,
          "metadata": {},
          "output_type": "execute_result"
        }
      ],
      "source": [
        "import pandas as pd\n",
        "import numpy as np\n",
        "from sklearn.datasets import load_boston\n",
        "\n",
        "boston = load_boston()\n",
        "\n",
        "X = boston.data[:,5].reshape(-1,1)\n",
        "y = boston.target.reshape(-1,1)\n",
        "\n",
        "from sklearn.model_selection import train_test_split\n",
        "X_train, X_test, y_train, y_test = train_test_split(X,y,random_state = 0)\n",
        "\n",
        "\n",
        "from sklearn.linear_model import LinearRegression\n",
        "\n",
        "# Create a Linear regressor\n",
        "model = LinearRegression()\n",
        "\n",
        "# Train the model using the training sets\n",
        "model.fit(X_train, y_train)\n"
      ]
    },
    {
      "cell_type": "code",
      "execution_count": null,
      "metadata": {
        "colab": {
          "base_uri": "https://localhost:8080/"
        },
        "id": "LtohU-1lIvIN",
        "outputId": "aeb87450-82ea-4a31-8a25-f176dd43d0ee"
      },
      "outputs": [
        {
          "data": {
            "text/plain": [
              "['housepricepredictor.joblib']"
            ]
          },
          "execution_count": 34,
          "metadata": {},
          "output_type": "execute_result"
        }
      ],
      "source": [
        "import joblib\n",
        "\n",
        "joblib.dump(model, 'housepricepredictor.joblib')"
      ]
    },
    {
      "cell_type": "code",
      "execution_count": null,
      "metadata": {
        "colab": {
          "base_uri": "https://localhost:8080/"
        },
        "id": "ICsgUipmIuPd",
        "outputId": "68989604-ec4c-4ac4-abea-2370a2b31a04"
      },
      "outputs": [
        {
          "name": "stdout",
          "output_type": "stream",
          "text": [
            "Performing interactive authentication. Please follow the instructions on the terminal.\n"
          ]
        },
        {
          "name": "stderr",
          "output_type": "stream",
          "text": [
            "WARNING:azureml._vendor.azure_cli_core.auth.identity:To sign in, use a web browser to open the page https://microsoft.com/devicelogin and enter the code A9MWF9SF8 to authenticate.\n"
          ]
        },
        {
          "name": "stdout",
          "output_type": "stream",
          "text": [
            "Interactive authentication successfully completed.\n",
            "Deploying StorageAccount with name amltestwstorage3b87a7355.\n",
            "Deploying AppInsights with name amltestwinsightsc1e297d7.\n",
            "Deployed AppInsights with name amltestwinsightsc1e297d7. Took 6.84 seconds.\n",
            "Deploying KeyVault with name amltestwkeyvaulta35564c2.\n",
            "Deployed KeyVault with name amltestwkeyvaulta35564c2. Took 26.67 seconds.\n",
            "Deployed StorageAccount with name amltestwstorage3b87a7355. Took 26.58 seconds.\n",
            "Deploying Workspace with name aml-test-ws.\n",
            "Deployed Workspace with name aml-test-ws. Took 39.2 seconds.\n"
          ]
        }
      ],
      "source": [
        "\n",
        "from azureml.core import Workspace\n",
        "\n",
        "NAME = \"aml-test-ws\" # The name of the workspace to be created\n",
        "RESOURCE_GROUP = \"aml-test\" # The name of the resource group that will contain the workspace\n",
        "LOCATION = \"westeurope\" # The data center location to deploy to\n",
        "SUBSCRIPTION_ID = <subscription_id> # GUID identifying the subscription with which to deploy\n",
        "\n",
        "ws = Workspace.create(\n",
        "    name=NAME,\n",
        "    resource_group=RESOURCE_GROUP,\n",
        "    subscription_id=SUBSCRIPTION_ID,\n",
        "    location=LOCATION,\n",
        "    sku='basic', # Azure ML version (available: basic or enterprise)\n",
        "    create_resource_group=True, # A new workspace will be created if it doesn't exist yet\n",
        "    exist_ok=True, # The method succeeds if the workspace already exists\n",
        "    show_output=True)\n",
        "\n",
        "ws.write_config()"
      ]
    },
    {
      "cell_type": "code",
      "execution_count": null,
      "metadata": {
        "colab": {
          "base_uri": "https://localhost:8080/"
        },
        "id": "ixB7Muf7LUGT",
        "outputId": "63335682-7285-4bd2-d283-ec19adc31c4e"
      },
      "outputs": [
        {
          "name": "stdout",
          "output_type": "stream",
          "text": [
            "Registering model house-price-predictor-model\n"
          ]
        }
      ],
      "source": [
        "from azureml.core import Workspace\n",
        "from azureml.core import Model\n",
        "\n",
        "\n",
        "ws = Workspace.from_config(\"config.json\")\n",
        "\n",
        "model = Model.register(workspace = ws,\n",
        "                       model_path =\"housepricepredictor.joblib\",\n",
        "                       model_name = \"house-price-predictor-model\",\n",
        "                       model_framework=Model.Framework.SCIKITLEARN,\n",
        "                       model_framework_version='0.22.2',\n",
        "                       description = \"A simple lr model\")"
      ]
    },
    {
      "cell_type": "code",
      "execution_count": null,
      "metadata": {
        "id": "ru5TAlbbJHs1"
      },
      "outputs": [],
      "source": []
    },
    {
      "cell_type": "code",
      "execution_count": null,
      "metadata": {
        "colab": {
          "base_uri": "https://localhost:8080/"
        },
        "id": "p1pvqIj2JctS",
        "outputId": "1dd74557-40a5-4f66-8c69-878a898952de"
      },
      "outputs": [
        {
          "name": "stdout",
          "output_type": "stream",
          "text": [
            "Overwriting score.py\n"
          ]
        }
      ],
      "source": [
        "%%writefile score.py\n",
        "\n",
        "import joblib\n",
        "import os\n",
        "import json\n",
        "import numpy as np\n",
        "\n",
        "from azureml.core import Run\n",
        "from azureml.core.model import Model\n",
        "\n",
        "\n",
        "# The init() method is called once, when the web service starts up.\n",
        "def init():\n",
        "    \"\"\"\n",
        "    Initialize the scoring script\n",
        "    \"\"\"\n",
        "    global model, run\n",
        "\n",
        "    # Locate the model in Azure Machine Learning\n",
        "    model_artifact = \"housepricepredictor.joblib\"\n",
        "    model_path = os.path.join(os.getenv('AZUREML_MODEL_DIR'), model_artifact)\n",
        "    # AZUREML_MODEL_DIR is an environment variable created during deployment,\n",
        "    # indicating the path to the folder containing the registerd moedels\n",
        "    # (./azureml-models/$MODEL_NAME/$VERSION)\n",
        "\n",
        "    # Load the model\n",
        "    model = joblib.load(model_path)\n",
        "\n",
        "\n",
        "# The run() method is called each time a request is made to the scoring API.\n",
        "def run(data):\n",
        "    \"\"\"\n",
        "    Make predictions\n",
        "    \"\"\"\n",
        "\n",
        "    # Extract the input data from the request\n",
        "    # (we expect it to be a 2D array, where every row\n",
        "    # is a different sample for the model to process)\n",
        "    input_data = json.loads(data)['data']\n",
        "\n",
        "    # Run the model on the input data\n",
        "    output = model.predict(np.array(input_data))\n",
        "\n",
        "    # Prepare the results as a dictionary,\n",
        "    # so that it can be JSON-serialized\n",
        "    # (as the returned data needs to be JSON-serializable)\n",
        "    result = {\"price\" : output.tolist()}\n",
        "\n",
        "    return result"
      ]
    },
    {
      "cell_type": "code",
      "execution_count": null,
      "metadata": {
        "id": "7H5xzdunJsqY"
      },
      "outputs": [],
      "source": [
        "\n",
        "from azureml.core import Environment\n",
        "from azureml.core.conda_dependencies import CondaDependencies\n",
        "\n",
        "environment = Environment(\"my-custom-environment\")\n",
        "\n",
        "environment.python.conda_dependencies = CondaDependencies.create(pip_packages=[\n",
        "    'azureml-defaults>= 1.0.45', # mandatory dependency, contains the functionality needed to host the model as a web service\n",
        "    'inference-schema[numpy-support]', # dependency for automatic schema generation (for parsing and validating input data)\n",
        "    'joblib',\n",
        "    'numpy',\n",
        "    'scikit-learn'\n",
        "])\n"
      ]
    },
    {
      "cell_type": "code",
      "execution_count": null,
      "metadata": {
        "id": "-xggg0ThJxA-"
      },
      "outputs": [],
      "source": [
        "from azureml.core.model import InferenceConfig\n",
        "\n",
        "inference_config = InferenceConfig(entry_script=\"score.py\", environment=environment)"
      ]
    },
    {
      "cell_type": "code",
      "execution_count": null,
      "metadata": {
        "id": "DNwUV5ikK-Yw"
      },
      "outputs": [],
      "source": [
        "from azureml.core.webservice import AciWebservice\n",
        "\n",
        "aci_config = AciWebservice.deploy_configuration(cpu_cores=1, memory_gb=2)"
      ]
    },
    {
      "cell_type": "code",
      "execution_count": null,
      "metadata": {
        "colab": {
          "base_uri": "https://localhost:8080/"
        },
        "id": "jqyj7wq0NcIV",
        "outputId": "be78c4e5-cab2-4384-bdbd-6c3e7c31349b"
      },
      "outputs": [
        {
          "name": "stderr",
          "output_type": "stream",
          "text": [
            "/usr/local/lib/python3.7/dist-packages/ipykernel_launcher.py:15: FutureWarning: azureml.core.model:\n",
            "To leverage new model deployment capabilities, AzureML recommends using CLI/SDK v2 to deploy models as online endpoint, \n",
            "please refer to respective documentations \n",
            "https://docs.microsoft.com/azure/machine-learning/how-to-deploy-managed-online-endpoints /\n",
            "https://docs.microsoft.com/azure/machine-learning/how-to-deploy-managed-online-endpoint-sdk-v2 /\n",
            "https://docs.microsoft.com/azure/machine-learning/how-to-attach-kubernetes-anywhere \n",
            "For more information on migration, see https://aka.ms/acimoemigration. \n",
            "To disable CLI/SDK v1 deprecation warning set AZUREML_LOG_DEPRECATION_WARNING_ENABLED to 'False'\n",
            "  from ipykernel import kernelapp as app\n"
          ]
        },
        {
          "name": "stdout",
          "output_type": "stream",
          "text": [
            "Tips: You can try get_logs(): https://aka.ms/debugimage#dockerlog or local deployment: https://aka.ms/debugimage#debug-locally to debug if deployment takes longer than 10 minutes.\n",
            "Running\n",
            "2022-10-09 05:45:47+00:00 Creating Container Registry if not exists..\n",
            "2022-10-09 05:55:48+00:00 Registering the environment.\n",
            "2022-10-09 05:55:51+00:00 Building image..\n",
            "2022-10-09 06:06:09+00:00 Generating deployment configuration..\n",
            "2022-10-09 06:06:11+00:00 Submitting deployment to compute..\n",
            "2022-10-09 06:06:19+00:00 Checking the status of deployment house-price-predictor-ep..\n",
            "2022-10-09 06:08:25+00:00 Checking the status of deployment house-price-predictor-ep..\n",
            "2022-10-09 06:09:38+00:00 Checking the status of inference endpoint house-price-predictor-ep.\n",
            "Succeeded\n",
            "ACI service creation operation finished, operation \"Succeeded\"\n"
          ]
        }
      ],
      "source": [
        "from azureml.core import Workspace\n",
        "from azureml.core.model import Model\n",
        "\n",
        "model_name = \"house-price-predictor-model\"\n",
        "endpoint_name = \"house-price-predictor-ep\"\n",
        "\n",
        "ws = Workspace.from_config()\n",
        "\n",
        "model = Model(ws, name=model_name)\n",
        "\n",
        "service = Model.deploy(workspace=ws,\n",
        "                       name=endpoint_name,\n",
        "                       models=[model],\n",
        "                       inference_config=inference_config,\n",
        "                       deployment_config=aci_config)\n",
        "\n",
        "service.wait_for_deployment(show_output=True)"
      ]
    },
    {
      "cell_type": "code",
      "execution_count": null,
      "metadata": {
        "colab": {
          "base_uri": "https://localhost:8080/"
        },
        "id": "eFYznfVdRu_E",
        "outputId": "796bf968-5782-4701-ad96-058988a9b0b7"
      },
      "outputs": [
        {
          "name": "stdout",
          "output_type": "stream",
          "text": [
            "{'price': [[25.051648512173124]]}\n"
          ]
        }
      ],
      "source": [
        "import json\n",
        "import requests\n",
        "\n",
        "input_array = [[ 6.575 ]]\n",
        "scoring_uri = <scoring_uri>\n",
        "\n",
        "# Add the 'data' field\n",
        "data = { \"data\" : input_array,\n",
        "        \"method\" : \"predict\"} # Write it in the required format for the REST API\n",
        "\n",
        "input_data = json.dumps(data) # Convert to JSON string\n",
        "\n",
        "# Set the content type to JSON\n",
        "headers = {\"Content-Type\": \"application/json\"}\n",
        "\n",
        "# Make the request and display the response\n",
        "resp = requests.post(scoring_uri, input_data, headers=headers)\n",
        "\n",
        "# Return the model output\n",
        "result = json.loads(resp.text)\n",
        "print(result)"
      ]
    },
    {
      "cell_type": "code",
      "execution_count": null,
      "metadata": {
        "colab": {
          "base_uri": "https://localhost:8080/"
        },
        "id": "nOcKV-XZcSef",
        "outputId": "12a36b1a-33a7-4064-f2ac-fad4f584fddf"
      },
      "outputs": [
        {
          "name": "stdout",
          "output_type": "stream",
          "text": [
            "Input data from dataframe: [6.575]\n",
            "Output from dataframe: [24.]\n"
          ]
        }
      ],
      "source": [
        "print(\"Input data from dataframe: \" + str(X[0]))\n",
        "print(\"Output from dataframe: \" + str(y[0]))"
      ]
    },
    {
      "cell_type": "code",
      "execution_count": null,
      "metadata": {
        "id": "Pzv29AGqcW4j"
      },
      "outputs": [],
      "source": []
    }
  ],
  "metadata": {
    "colab": {
      "provenance": []
    },
    "kernelspec": {
      "display_name": "Python 3",
      "name": "python3"
    },
    "language_info": {
      "name": "python"
    }
  },
  "nbformat": 4,
  "nbformat_minor": 0
}
